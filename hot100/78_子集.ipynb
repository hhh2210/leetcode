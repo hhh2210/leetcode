{
 "cells": [
  {
   "cell_type": "markdown",
   "metadata": {},
   "source": [
    "# 题目\n",
    "> 给你一个整数数组 `nums` ，数组中的元素 **互不相同** 。返回该数组所有可能的子集（幂集）。\n",
    "> 解集 **不能** 包含重复的子集。你可以按 **任意顺序** 返回解集。\n",
    "\n",
    "思路：\n",
    "数学上的直觉是阶乘，如果要清晰一点的思路就是画图遍历，每一个元素进行连线。\n",
    "那考虑到连线，可以尝试引入回溯法来解决这道题目，形成一个树结构"
   ]
  },
  {
   "cell_type": "code",
   "execution_count": null,
   "metadata": {
    "vscode": {
     "languageId": "plaintext"
    }
   },
   "outputs": [],
   "source": [
    "class Solution:\n",
    "    def subsets(self, nums: List[int]) -> List[List[int]]:\n",
    "        #最后的返回\n",
    "        solution = []\n",
    "        #探索路径\n",
    "        current_path = []\n",
    "        \n",
    "        def backtrack(start_index):\n",
    "            # 每次递归都将当前路径加入结果集\n",
    "            solution.append(current_path[:])\n",
    "            \n",
    "            # 从start_index开始遍历，避免重复\n",
    "            for i in range(start_index, len(nums)):\n",
    "                # 选择当前元素\n",
    "                current_path.append(nums[i])\n",
    "                # 继续递归探索\n",
    "                backtrack(i + 1)\n",
    "                # 回溯，撤销选择\n",
    "                current_path.pop()\n",
    "        \n",
    "        # 从索引0开始回溯\n",
    "        backtrack(0)\n",
    "        return solution"
   ]
  }
 ],
 "metadata": {
  "language_info": {
   "name": "python"
  }
 },
 "nbformat": 4,
 "nbformat_minor": 2
}
